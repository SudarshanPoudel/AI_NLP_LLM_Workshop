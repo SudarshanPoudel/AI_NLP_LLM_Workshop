{
 "cells": [
  {
   "cell_type": "code",
   "execution_count": 6,
   "metadata": {},
   "outputs": [
    {
     "name": "stderr",
     "output_type": "stream",
     "text": [
      "huggingface/tokenizers: The current process just got forked, after parallelism has already been used. Disabling parallelism to avoid deadlocks...\n",
      "To disable this warning, you can either:\n",
      "\t- Avoid using `tokenizers` before the fork if possible\n",
      "\t- Explicitly set the environment variable TOKENIZERS_PARALLELISM=(true | false)\n"
     ]
    },
    {
     "name": "stdout",
     "output_type": "stream",
     "text": [
      "Requirement already satisfied: faiss-cpu in /home/sudarshan/Desktop/Workshop/git_repo/.venv/lib/python3.12/site-packages (1.11.0)\n",
      "Requirement already satisfied: numpy<3.0,>=1.25.0 in /home/sudarshan/Desktop/Workshop/git_repo/.venv/lib/python3.12/site-packages (from faiss-cpu) (2.3.1)\n",
      "Requirement already satisfied: packaging in /home/sudarshan/Desktop/Workshop/git_repo/.venv/lib/python3.12/site-packages (from faiss-cpu) (24.2)\n"
     ]
    }
   ],
   "source": [
    "!pip install faiss-cpu"
   ]
  },
  {
   "cell_type": "code",
   "execution_count": 14,
   "metadata": {},
   "outputs": [
    {
     "name": "stdout",
     "output_type": "stream",
     "text": [
      "Text: Machine learning and data science\n",
      "Text: This is an AI workshop\n",
      "Text: Cooking recipes for Nepali food\n"
     ]
    }
   ],
   "source": [
    "from sentence_transformers import SentenceTransformer\n",
    "import faiss\n",
    "import json\n",
    "import os\n",
    "\n",
    "model = SentenceTransformer(\"all-MiniLM-L6-v2\")\n",
    "index_file = \"my_index.faiss\"\n",
    "texts_file = \"texts.json\"\n",
    "\n",
    "# Load or create index\n",
    "if os.path.exists(index_file):\n",
    "    index = faiss.read_index(index_file)\n",
    "else:\n",
    "    index = faiss.IndexFlatIP(384)\n",
    "\n",
    "# Load or init texts\n",
    "if os.path.exists(texts_file):\n",
    "    with open(texts_file, \"r\") as f:\n",
    "        texts = json.load(f)\n",
    "else:\n",
    "    texts = []\n",
    "\n",
    "def add_text(new_texts):\n",
    "    global texts, index\n",
    "    embeddings = model.encode(new_texts, normalize_embeddings=True).astype('float32')\n",
    "    index.add(embeddings)\n",
    "    texts.extend(new_texts)\n",
    "\n",
    "    # Save to disk\n",
    "    faiss.write_index(index, index_file)\n",
    "    with open(texts_file, \"w\") as f:\n",
    "        json.dump(texts, f)\n",
    "\n",
    "def search(query, top_k=5):\n",
    "    query_emb = model.encode([query], normalize_embeddings=True).astype('float32')\n",
    "    D, I = index.search(query_emb, top_k)\n",
    "    return [texts[i] for i in I[0] if i != -1]\n",
    "\n",
    "# Example usage\n",
    "add_text([\n",
    "    \"This is an AI workshop\",\n",
    "    \"Machine learning and data science\",\n",
    "    \"Cooking recipes for Nepali food\"\n",
    "])\n",
    "\n",
    "results = search(\"Tell me something about machine learning\")\n",
    "for text in results:\n",
    "    print(\"Text:\", text)"
   ]
  }
 ],
 "metadata": {
  "kernelspec": {
   "display_name": ".venv",
   "language": "python",
   "name": "python3"
  },
  "language_info": {
   "codemirror_mode": {
    "name": "ipython",
    "version": 3
   },
   "file_extension": ".py",
   "mimetype": "text/x-python",
   "name": "python",
   "nbconvert_exporter": "python",
   "pygments_lexer": "ipython3",
   "version": "3.12.3"
  }
 },
 "nbformat": 4,
 "nbformat_minor": 2
}
